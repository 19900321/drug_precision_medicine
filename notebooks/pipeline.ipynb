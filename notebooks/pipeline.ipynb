{
 "cells": [
  {
   "cell_type": "markdown",
   "metadata": {},
   "source": [
    "# Encircling the regions of the pharmacogenomic landscape that determine drug response"
   ]
  },
  {
   "cell_type": "markdown",
   "metadata": {},
   "source": [
    "In this notebook is detailed the process followed to obtain the Hotnet inputs for the paper *Encircling the pharmacologic regions that determines drug response*."
   ]
  },
  {
   "cell_type": "markdown",
   "metadata": {},
   "source": [
    "*Required packages*\n",
    "- pandas\n",
    "- numpy\n",
    "- scipy\n",
    "- h5py\n",
    "- networkx\n",
    "- tqdm\n",
    "- matplotlib\n",
    "- sklearn\n",
    "\n",
    "**Please, be aware that HotNet runs in python2 and some of the above packages must be also installed in python2**"
   ]
  },
  {
   "cell_type": "code",
   "execution_count": 45,
   "metadata": {},
   "outputs": [],
   "source": [
    "import sys\n",
    "sys.path.insert(0, '../src')\n",
    "import numpy as np\n",
    "import pandas as pd\n",
    "from tqdm import tqdm\n",
    "import pickle\n",
    "from scipy import stats\n",
    "import scripts as src\n",
    "from ml_model.ml import ensembol_gene_symbol,uniprot_gene_symbol\n",
    "src.make_output_folders()\n",
    "import os"
   ]
  },
  {
   "cell_type": "markdown",
   "metadata": {},
   "source": [
    "## Reading drug sensitivity and gene expression data\n"
   ]
  },
  {
   "cell_type": "code",
   "execution_count": 2,
   "outputs": [
    {
     "name": "stdout",
     "output_type": "stream",
     "text": [
      "from (123, 60619) genes to (123, 8802) genes \n",
      "102 drug with gene expression\n",
      "102 drug by at least 35 sample\n",
      "102 drug at least one drug reponase DSS less than 5 except nan\n"
     ]
    }
   ],
   "source": [
    "gene_data = pd.read_csv('../data/MM_log2RPKM_expression_123_20200918.txt', sep='\\t')\n",
    "patient_drug_data = pd.read_csv('../data/DrugSensitivity.tsv', sep='\\t')\n",
    "expr_df, drug_df = src.prepare_drug_gene(gene_data, patient_drug_data)\n"
   ],
   "metadata": {
    "collapsed": false,
    "pycharm": {
     "name": "#%%\n"
    }
   }
  },
  {
   "cell_type": "markdown",
   "source": [
    "## Getting drug-gene correlations"
   ],
   "metadata": {
    "collapsed": false,
    "pycharm": {
     "name": "#%% md\n"
    }
   }
  },
  {
   "cell_type": "code",
   "execution_count": null,
   "outputs": [],
   "source": [
    "corr_df = src.get_correlations(expr_df,drug_df)"
   ],
   "metadata": {
    "collapsed": false,
    "pycharm": {
     "name": "#%%\n"
    }
   }
  },
  {
   "cell_type": "markdown",
   "source": [
    "### Finding z-corr cutoff (0.025 prop at each tail)"
   ],
   "metadata": {
    "collapsed": false,
    "pycharm": {
     "name": "#%% md\n"
    }
   }
  },
  {
   "cell_type": "code",
   "execution_count": null,
   "outputs": [],
   "source": [
    "\n",
    "zscore_cutoff = np.mean(src.find_zscore_cutoff(corr_df))"
   ],
   "metadata": {
    "collapsed": false,
    "pycharm": {
     "name": "#%%\n"
    }
   }
  },
  {
   "cell_type": "code",
   "execution_count": null,
   "outputs": [],
   "source": [
    "### Getting significant correlations for each drug"
   ],
   "metadata": {
    "collapsed": false,
    "pycharm": {
     "name": "#%%\n"
    }
   }
  },
  {
   "cell_type": "code",
   "execution_count": null,
   "outputs": [],
   "source": [
    "up_genes,dw_genes = src.get_drug2gene_correlations(corr_df,zscore_cutoff)"
   ],
   "metadata": {
    "collapsed": false,
    "pycharm": {
     "name": "#%%\n"
    }
   }
  },
  {
   "cell_type": "code",
   "execution_count": null,
   "outputs": [],
   "source": [
    "up_genes_symbol = {drug:list(ensembol_gene_symbol(genes).values()) for drug,genes in up_genes.items()}\n",
    "dw_genes_symbol = {drug:list(ensembol_gene_symbol(genes).values()) for drug,genes in dw_genes.items()}"
   ],
   "metadata": {
    "collapsed": false,
    "pycharm": {
     "name": "#%%\n"
    }
   }
  },
  {
   "cell_type": "markdown",
   "source": [
    "## Finding Frequently Correlated Genes (FCG)"
   ],
   "metadata": {
    "collapsed": false,
    "pycharm": {
     "name": "#%% md\n"
    }
   }
  },
  {
   "cell_type": "code",
   "execution_count": null,
   "outputs": [],
   "source": [
    "up_fcg = src.get_fcg(corr_df,up_genes)\n",
    "dw_fcg = src.get_fcg(corr_df,dw_genes)"
   ],
   "metadata": {
    "collapsed": false,
    "pycharm": {
     "name": "#%%\n"
    }
   }
  },
  {
   "cell_type": "markdown",
   "source": [
    "## Computing Reactome enrichments\n",
    "\n",
    "###\n",
    "This script can be slow. Please, consider using multiprocessing"
   ],
   "metadata": {
    "collapsed": false,
    "pycharm": {
     "name": "#%% md\n"
    }
   }
  },
  {
   "cell_type": "markdown",
   "source": [
    "### Running Reactome GSEA for each drug"
   ],
   "metadata": {
    "collapsed": false,
    "pycharm": {
     "name": "#%% md\n"
    }
   }
  },
  {
   "cell_type": "code",
   "execution_count": null,
   "outputs": [],
   "source": [
    "#Getting reactome\n",
    "reactome_genesets =src.get_reactome_genesets()\n",
    "\n",
    "#Getting reactome universe\n",
    "react_univ = set([y for x in reactome_genesets.values() for y in x])\n",
    "\n",
    "#Getting final universe: GDSC & reactome\n",
    "the_universe = react_univ & src.map_and_return_universe(corr_df.columns,src.get_ensbl2uniAC())\n",
    "\n",
    "#Getting reactome genesets in the universe\n",
    "reactome_genesets = {r:reactome_genesets[r]&the_universe for r in reactome_genesets}\n",
    "\n",
    "#Mapping ensemble to uniprot\n",
    "mapped_corr_df = src.map_corr_df_to_uniprot(corr_df,the_universe)\n",
    "\n",
    "#Iterating across drugs\n",
    "for drug in tqdm(mapped_corr_df.index.values):\n",
    "    output_path = '../results/reactome_gsea/%s.tsv'%drug\n",
    "    matrix = list(zip(mapped_corr_df.columns,mapped_corr_df.loc[drug]))\n",
    "    sorted_matrix = sorted([[str(x[0]),float(x[1])] for x in matrix], key=lambda x: x[1], reverse=True)\n",
    "\n",
    "    #Running GSEA\n",
    "    src.run_gsea(sorted_matrix,reactome_genesets,output_path)"
   ],
   "metadata": {
    "collapsed": false,
    "pycharm": {
     "name": "#%%\n"
    }
   }
  },
  {
   "cell_type": "markdown",
   "source": [
    "## Getting HotNet input files\n",
    "\n",
    "### 1.Removing FCG from the correlations"
   ],
   "metadata": {
    "collapsed": false,
    "pycharm": {
     "name": "#%% md\n"
    }
   }
  },
  {
   "cell_type": "code",
   "execution_count": null,
   "outputs": [],
   "source": [
    "up_genes_noFCG,dw_genes_noFCG = {},{}\n",
    "\n",
    "for drug,genes in up_genes.items():\n",
    "    genes = genes.difference(up_fcg)\n",
    "    up_genes_noFCG[drug] = genes\n",
    "\n",
    "for drug,genes in dw_genes.items():\n",
    "    genes = genes.difference(dw_fcg)\n",
    "    dw_genes_noFCG[drug] = genes\n"
   ],
   "metadata": {
    "collapsed": false,
    "pycharm": {
     "name": "#%%\n"
    }
   }
  },
  {
   "cell_type": "markdown",
   "source": [
    "### 2.Getting significantly enriched pathways for each drug"
   ],
   "metadata": {
    "collapsed": false,
    "pycharm": {
     "name": "#%% md\n"
    }
   }
  },
  {
   "cell_type": "code",
   "execution_count": null,
   "outputs": [],
   "source": [
    "drug2pwy = src.get_drug2pwy()"
   ],
   "metadata": {
    "collapsed": false,
    "pycharm": {
     "name": "#%%\n"
    }
   }
  },
  {
   "cell_type": "markdown",
   "source": [
    "###  3.Reading string network and reactome genesets\n"
   ],
   "metadata": {
    "collapsed": false,
    "pycharm": {
     "name": "#%% md\n"
    }
   }
  },
  {
   "cell_type": "code",
   "execution_count": null,
   "outputs": [],
   "source": [
    "string = set([])\n",
    "with open('../data/string/interactions.tsv','r') as f:\n",
    "    for l in f:\n",
    "        string.update(l.rstrip().split('\\t'))\n",
    "\n",
    "reactome_genesets = src.get_reactome_genesets()\n"
   ],
   "metadata": {
    "collapsed": false,
    "pycharm": {
     "name": "#%%\n"
    }
   }
  },
  {
   "cell_type": "markdown",
   "source": [
    "### 4.Writing HotNet inputs"
   ],
   "metadata": {
    "collapsed": false,
    "pycharm": {
     "name": "#%% md\n"
    }
   }
  },
  {
   "cell_type": "code",
   "execution_count": null,
   "outputs": [],
   "source": [
    "#--up\n",
    "output_path = '../results/hotnet_input/PCM/'\n",
    "src.write_hotnet_inputs(up_genes_noFCG,corr_df,drug2pwy,reactome_genesets,string,output_path)\n",
    "\n",
    "#--dw\n",
    "output_path = '../results/hotnet_input/NCM/'\n",
    "src.write_hotnet_inputs(dw_genes_noFCG,corr_df,drug2pwy,reactome_genesets,string,output_path)\n"
   ],
   "metadata": {
    "collapsed": false,
    "pycharm": {
     "name": "#%%\n"
    }
   }
  },
  {
   "cell_type": "markdown",
   "source": [
    "## Running HotNet\n",
    "\n",
    "This script can be slow. Please, consider using multiprocessing"
   ],
   "metadata": {
    "collapsed": false,
    "pycharm": {
     "name": "#%% md\n"
    }
   }
  },
  {
   "cell_type": "code",
   "execution_count": null,
   "outputs": [],
   "source": [
    "drugs = drug_df.columns\n",
    "for direction in ['PCM','NCM']:\n",
    "    for drug in tqdm(drugs,desc='%s'%direction):\n",
    "        output = '../results/hotnet/%s/%s/'%(direction,drug)\n",
    "        src.run_iteratively_hotnet('../results/hotnet_input/%s/%s.tsv'%(direction,drug),output)"
   ],
   "metadata": {
    "collapsed": false,
    "pycharm": {
     "name": "#%%\n"
    }
   }
  },
  {
   "cell_type": "markdown",
   "source": [
    "## Running Diamond\n",
    "\n",
    "This script can be slow. Please, consider using multiprocessing"
   ],
   "metadata": {
    "collapsed": false,
    "pycharm": {
     "name": "#%% md\n"
    }
   }
  },
  {
   "cell_type": "code",
   "execution_count": null,
   "outputs": [],
   "source": [
    "drugs = drug_df.columns\n",
    "\n",
    "for direction in ['PCM','NCM']:\n",
    "    module_path = '../results/hotnet/%s/'%direction\n",
    "    for drug in tqdm(drugs,desc='%s'%direction):\n",
    "        output = '../results/diamond/%s/'%direction\n",
    "        src.run_diamond(module_path,output,sample=drug)"
   ],
   "metadata": {
    "collapsed": false,
    "pycharm": {
     "name": "#%%\n"
    }
   }
  },
  {
   "cell_type": "markdown",
   "source": [
    "## Getting final modules¶"
   ],
   "metadata": {
    "collapsed": false,
    "pycharm": {
     "name": "#%% md\n"
    }
   }
  },
  {
   "cell_type": "code",
   "execution_count": null,
   "outputs": [],
   "source": [
    "#Getting modules\n",
    "pcm = src.retrieve_iter_hotnet('../results/hotnet/PCM')\n",
    "ncm = src.retrieve_iter_hotnet('../results/hotnet/NCM')\n",
    "\n",
    "#Getting alpha list\n",
    "diamond_pcm = src.read_diamond_res('../results/diamond/PCM/')\n",
    "diamond_ncm = src.read_diamond_res('../results/diamond/NCM/')\n",
    "\n",
    "#Getting new modules\n",
    "final_pcm = src.add_diamond_genes(pcm,diamond_pcm,up_genes)\n",
    "final_ncm = src.add_diamond_genes(ncm,diamond_ncm,dw_genes)\n",
    "\n",
    "#Writing final modules\n",
    "outpath = '../results/final_modules/'\n",
    "\n",
    "# --PCM\n",
    "with open(outpath+'/PCM.gmt','w') as o:\n",
    "    for drug in sorted(final_pcm):\n",
    "        for ix,md in enumerate(final_pcm[drug]):\n",
    "            if ix == 0:\n",
    "                o.write('%s\\tna\\t'%drug+'\\t'.join(md)+'\\n')\n",
    "            elif ix == 1:\n",
    "                o.write('%s_md2\\tmodule_2\\t'%drug+'\\t'.join(md)+'\\n')\n",
    "\n",
    "# --NCM\n",
    "with open(outpath+'/NCM.gmt','w') as o:\n",
    "    for drug in sorted(final_ncm):\n",
    "        for ix,md in enumerate(final_ncm[drug]):\n",
    "            if ix == 0:\n",
    "                o.write('%s\\tna\\t'%drug+'\\t'.join(md)+'\\n')\n",
    "            elif ix == 1:\n",
    "                o.write('%s_md2\\tmodule_2\\t'%drug+'\\t'.join(md)+'\\n')"
   ],
   "metadata": {
    "collapsed": false,
    "pycharm": {
     "name": "#%%\n"
    }
   }
  },
  {
   "cell_type": "code",
   "execution_count": null,
   "outputs": [],
   "source": [
    "data_saved = pickle.load(open('../results/result.out', 'rb'))\n",
    "\n",
    "final_pcm_symbol = {}\n",
    "for d,uniprots in data_saved['final_pcm'].items():\n",
    "    symbol_list = []\n",
    "    for u in uniprots:\n",
    "        symbol_list.append(list(uniprot_gene_symbol(u).values()))\n",
    "    final_pcm_symbol[d] = symbol_list\n",
    "data_saved['final_pcm_symbol'] = final_pcm_symbol\n",
    "\n",
    "final_ncm_symbol = {}\n",
    "for d,uniprots in data_saved['final_ncm'].items():\n",
    "    symbol_list = []\n",
    "    for u in uniprots:\n",
    "        symbol_list.append(list(uniprot_gene_symbol(u).values()))\n",
    "    final_ncm_symbol[d] = symbol_list\n",
    "\n",
    "data_saved['final_ncm_symbol'] = final_ncm_symbol\n",
    "\n",
    "with(open('../results/result.out', 'wb')) as handle:\n",
    "    pickle.dump(data_saved, handle)"
   ],
   "metadata": {
    "collapsed": false,
    "pycharm": {
     "name": "#%%\n"
    }
   }
  },
  {
   "cell_type": "code",
   "execution_count": null,
   "outputs": [],
   "source": [
    "data_saved = {}\n",
    "for k, v in globals():\n",
    "    if k.startswith(set(['gene', 'drug','up','final', 'ncm','dw','diamond','zscore','pcm','the_universe'])):\n",
    "        data_saved.update(v)\n",
    "\n",
    "with(open('../results/result.out', 'wb')) as handle:\n",
    "    pickle.dump(data_saved, handle)\n",
    "\n"
   ],
   "metadata": {
    "collapsed": false,
    "pycharm": {
     "name": "#%%\n"
    }
   }
  }
 ],
 "metadata": {
  "kernelspec": {
   "display_name": "Python 3",
   "language": "python",
   "name": "python3"
  },
  "language_info": {
   "codemirror_mode": {
    "name": "ipython",
    "version": 3
   },
   "file_extension": ".py",
   "mimetype": "text/x-python",
   "name": "python",
   "nbconvert_exporter": "python",
   "pygments_lexer": "ipython3",
   "version": "3.5.2"
  }
 },
 "nbformat": 4,
 "nbformat_minor": 2
}
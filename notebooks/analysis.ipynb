{
 "cells": [
  {
   "cell_type": "code",
   "execution_count": 2,
   "metadata": {
    "collapsed": true
   },
   "outputs": [],
   "source": [
    "import pickle\n",
    "import itertools\n",
    "from ml_model.ml import uniprot_gene_symbol,ensembol_gene_symbol\n",
    "import pandas as pd"
   ]
  },
  {
   "cell_type": "code",
   "execution_count": 3,
   "outputs": [],
   "source": [
    "data_saved = pickle.load(open('../results/result.out', 'rb'))"
   ],
   "metadata": {
    "collapsed": false,
    "pycharm": {
     "name": "#%%\n"
    }
   }
  },
  {
   "cell_type": "code",
   "execution_count": 5,
   "outputs": [],
   "source": [
    "drugs  = ['Bortezomib',\n",
    "          'Carfilzomib',\n",
    "          'Ixazomib',\n",
    "          'Oprozomib']"
   ],
   "metadata": {
    "collapsed": false,
    "pycharm": {
     "name": "#%%\n"
    }
   }
  },
  {
   "cell_type": "code",
   "execution_count": 15,
   "outputs": [],
   "source": [
    "def get_common_gene_drugs(data_saved):\n",
    "    common_gene_dict = {}\n",
    "    common_gene_dict_symbol = {}\n",
    "    for p_n_gene in ['final_pcm','final_ncm']:\n",
    "        genes = set.intersection(*[set(data_saved[p_n_gene][d][0]) for d in drugs])\n",
    "        genes_symbol = uniprot_gene_symbol(list(genes))\n",
    "        genes_merged = set.intersection(*[set(itertools.chain.from_iterable(data_saved[p_n_gene][d])) for d in drugs])\n",
    "        genes_merged_symbol = uniprot_gene_symbol(list(genes_merged))\n",
    "        common_gene_dict[p_n_gene] = {'all_module':genes_merged,'first_module':genes}\n",
    "        common_gene_dict_symbol[p_n_gene] = {'all_module':genes_merged_symbol,'first_module':genes_symbol}\n",
    "    return common_gene_dict, common_gene_dict_symbol"
   ],
   "metadata": {
    "collapsed": false,
    "pycharm": {
     "name": "#%%\n"
    }
   }
  },
  {
   "cell_type": "code",
   "execution_count": 16,
   "outputs": [
    {
     "name": "stdout",
     "output_type": "stream",
     "text": [
      "querying 1-20...done.\n",
      "Finished.\n",
      "querying 1-39...done.\n",
      "Finished.\n",
      "querying 1-17...done.\n",
      "Finished.\n",
      "3 input query terms found no hit:\n",
      "\t['Q9GIY3', 'P04229', 'Q29974']\n",
      "Pass \"returnall=True\" to return complete lists of duplicate or missing query terms.\n",
      "querying 1-30...done.\n",
      "Finished.\n",
      "3 input query terms found no hit:\n",
      "\t['P04229', 'Q29974', 'Q9GIY3']\n",
      "Pass \"returnall=True\" to return complete lists of duplicate or missing query terms.\n"
     ]
    }
   ],
   "source": [
    "common_gene_dict, common_gene_dict_symbol = get_common_gene_drugs(data_saved)\n",
    "common = pd.DataFrame(common_gene_dict_symbol)\n",
    "common.to_csv('../results/common.csv')"
   ],
   "metadata": {
    "collapsed": false,
    "pycharm": {
     "name": "#%%\n"
    }
   }
  },
  {
   "cell_type": "code",
   "execution_count": null,
   "outputs": [],
   "source": [],
   "metadata": {
    "collapsed": false,
    "pycharm": {
     "name": "#%%\n"
    }
   }
  },
  {
   "cell_type": "code",
   "execution_count": 11,
   "outputs": [],
   "source": [
    "def get_single_drug_fdr():\n",
    "    classic = pd.read_csv('../results/mm106_data_cor_pvalue_0.05.csv', sep=';')\n",
    "    classic = classic[round(classic['adjust_pvalue'], 2) <0.1]\n",
    "    classic_p = classic[round(classic['coefficient'], 2) >0]\n",
    "    classic_n = classic[round(classic['coefficient'], 2) <0]\n",
    "    drug_classic_dict_p = dict(classic_p.groupby('drug')['Gene'].apply(list))\n",
    "    drug_classic_dict_n = dict(classic_n.groupby('drug')['Gene'].apply(list))\n",
    "    classic_gene = {}\n",
    "    for d in drugs:\n",
    "        classic_gene[d] = {'final_pcm_symbol':drug_classic_dict_p[d],\n",
    "                           'final_ncm_symbol':drug_classic_dict_n[d]}\n",
    "    return classic_gene\n",
    "\n",
    "classic_gene_dict = get_single_drug_fdr()"
   ],
   "metadata": {
    "collapsed": false,
    "pycharm": {
     "name": "#%%\n"
    }
   }
  },
  {
   "cell_type": "code",
   "execution_count": 13,
   "outputs": [],
   "source": [
    "def get_group_fdr_gene():\n",
    "    group_gene = pd.read_csv('../DEGs/bortezomib_count_0.05.csv',index_col=0)\n",
    "    group_gene_up = group_gene.index[group_gene['log2FoldChange']>0].values\n",
    "    group_gene_up_symbol = list(ensembol_gene_symbol(group_gene_up).values())\n",
    "    group_gene_down = group_gene.index[group_gene['log2FoldChange']<0].values\n",
    "    group_gene_down_symbol = list(ensembol_gene_symbol(group_gene_down).values())\n",
    "    return {'Bortezomib':{'final_ncm_symbol':group_gene_up_symbol,\n",
    "                           'final_pcm_symbol':group_gene_down_symbol}}\n",
    "group_fdr_gene_dict = get_group_fdr_gene()"
   ],
   "metadata": {
    "collapsed": false,
    "pycharm": {
     "name": "#%%\n"
    }
   }
  },
  {
   "cell_type": "code",
   "execution_count": 8,
   "outputs": [
    {
     "name": "stdout",
     "output_type": "stream",
     "text": [
      "querying 1-169...done.\n",
      "Finished.\n",
      "querying 1-218...done.\n",
      "Finished.\n",
      "querying 1-110...done.\n",
      "Finished.\n",
      "1 input query terms found dup hits:\n",
      "\t[('P0DMV8', 2)]\n",
      "3 input query terms found no hit:\n",
      "\t['P04229', 'Q9GIY3', 'Q29974']\n",
      "Pass \"returnall=True\" to return complete lists of duplicate or missing query terms.\n",
      "querying 1-170...done.\n",
      "Finished.\n",
      "1 input query terms found dup hits:\n",
      "\t[('P0DMV8', 2)]\n",
      "3 input query terms found no hit:\n",
      "\t['P04229', 'Q9GIY3', 'Q29974']\n",
      "Pass \"returnall=True\" to return complete lists of duplicate or missing query terms.\n",
      "querying 1-161...done.\n",
      "Finished.\n",
      "querying 1-211...done.\n",
      "Finished.\n",
      "querying 1-69...done.\n",
      "Finished.\n",
      "8 input query terms found no hit:\n",
      "\t['P04229', 'Q31612', 'Q31610', 'Q9GIY3', 'P30486', 'Q29974', 'P30480', 'Q29836']\n",
      "Pass \"returnall=True\" to return complete lists of duplicate or missing query terms.\n",
      "querying 1-98...done.\n",
      "Finished.\n",
      "8 input query terms found no hit:\n",
      "\t['Q31612', 'P04229', 'Q31610', 'Q9GIY3', 'P30486', 'Q29974', 'Q29836', 'P30480']\n",
      "Pass \"returnall=True\" to return complete lists of duplicate or missing query terms.\n",
      "querying 1-84...done.\n",
      "Finished.\n",
      "querying 1-110...done.\n",
      "Finished.\n",
      "querying 1-82...done.\n",
      "Finished.\n",
      "1 input query terms found dup hits:\n",
      "\t[('O14950', 2)]\n",
      "10 input query terms found no hit:\n",
      "\t['P16188', 'P04229', 'Q31612', 'P13746', 'Q31610', 'Q9GIY3', 'P30486', 'Q29974', 'P30480', 'Q29836']\n",
      "Pass \"returnall=True\" to return complete lists of duplicate or missing query terms.\n",
      "querying 1-117...done.\n",
      "Finished.\n",
      "1 input query terms found dup hits:\n",
      "\t[('O14950', 2)]\n",
      "10 input query terms found no hit:\n",
      "\t['Q31612', 'P04229', 'Q31610', 'Q9GIY3', 'P30486', 'Q29974', 'Q29836', 'P16188', 'P13746', 'P30480']\n",
      "Pass \"returnall=True\" to return complete lists of duplicate or missing query terms.\n",
      "querying 1-108...done.\n",
      "Finished.\n",
      "querying 1-141...done.\n",
      "Finished.\n",
      "querying 1-104...done.\n",
      "Finished.\n",
      "1 input query terms found dup hits:\n",
      "\t[('O14950', 2)]\n",
      "5 input query terms found no hit:\n",
      "\t['P04229', 'Q9GIY3', 'Q29974', 'P16188', 'P13746']\n",
      "Pass \"returnall=True\" to return complete lists of duplicate or missing query terms.\n",
      "querying 1-172...done.\n",
      "Finished.\n",
      "1 input query terms found dup hits:\n",
      "\t[('O14950', 2)]\n",
      "5 input query terms found no hit:\n",
      "\t['P04229', 'Q9GIY3', 'Q29974', 'P16188', 'P13746']\n",
      "Pass \"returnall=True\" to return complete lists of duplicate or missing query terms.\n"
     ]
    }
   ],
   "source": [
    "def get_common_gene_methods(drugs, data_saved, group_fdr_gene_dict, classic_gene_dict ):\n",
    "    common_gene_dict = {}\n",
    "    for d in drugs:\n",
    "        common_gene_dict_drug = {}\n",
    "        for p_n_gene in ['final_pcm_symbol','final_ncm_symbol']:\n",
    "            a = sorted(set(data_saved[p_n_gene][d][0]))\n",
    "            b = sorted(set(group_fdr_gene_dict[d][p_n_gene]))\n",
    "            c = sorted(set(classic_gene_dict[d][p_n_gene]))\n",
    "\n",
    "            common_genes = set.intersection(set(a),\n",
    "                                            set(b),\n",
    "                                            set(c))\n",
    "\n",
    "\n",
    "            a_merged = sorted(set(itertools.chain.from_iterable(data_saved[p_n_gene][d])))\n",
    "\n",
    "            common_genes_merged = set.intersection(set(a_merged),\n",
    "                                                    set(b),\n",
    "                                                   set(c))\n",
    "            common_gene_dict_drug[p_n_gene] = {'all_module':common_genes_merged,'first_module':common_genes}\n",
    "        common_gene_dict[d] =  common_gene_dict_drug\n",
    "    return common_gene_dict\n",
    "\n",
    "common_gene_dict = get_common_gene_methods(['Bortezomib'], data_saved, group_fdr_gene_dict, classic_gene_dict)"
   ],
   "metadata": {
    "collapsed": false,
    "pycharm": {
     "name": "#%%\n"
    }
   }
  },
  {
   "cell_type": "code",
   "execution_count": null,
   "outputs": [],
   "source": [
    "with(open('../results/common_genes_methods-dict')) as handle:\n",
    "    pickle.dump(common_gene_dict, handle)"
   ],
   "metadata": {
    "collapsed": false,
    "pycharm": {
     "name": "#%%\n"
    }
   }
  },
  {
   "cell_type": "code",
   "execution_count": 12,
   "outputs": [],
   "source": [
    "#common_gene_dict = pickle.load(open('../results/common_genes_methods_dict','rb'))\n",
    "#Writing final modules\n",
    "with open('../results/final_modules_common_fdr_0.05.txt','w') as o:\n",
    "    for drug,gene_dict in common_gene_dict.items():\n",
    "        for module_type, module_id_dict in gene_dict.items():\n",
    "            for module_id, genes in  module_id_dict.items():\n",
    "                o.write('{} \\t {} \\t {} \\t'.format(drug,module_type, module_id) +'\\t'.join(genes)+'\\n')\n"
   ],
   "metadata": {
    "collapsed": false,
    "pycharm": {
     "name": "#%%\n"
    }
   }
  }
 ],
 "metadata": {
  "kernelspec": {
   "display_name": "Python 3",
   "language": "python",
   "name": "python3"
  },
  "language_info": {
   "codemirror_mode": {
    "name": "ipython",
    "version": 2
   },
   "file_extension": ".py",
   "mimetype": "text/x-python",
   "name": "python",
   "nbconvert_exporter": "python",
   "pygments_lexer": "ipython2",
   "version": "2.7.6"
  }
 },
 "nbformat": 4,
 "nbformat_minor": 0
}